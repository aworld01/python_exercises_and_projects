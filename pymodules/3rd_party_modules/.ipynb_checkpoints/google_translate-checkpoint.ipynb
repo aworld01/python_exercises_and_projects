{
 "cells": [
  {
   "cell_type": "code",
   "execution_count": 1,
   "id": "2d993b3e-2f0d-4caa-8374-2c617c79052e",
   "metadata": {},
   "outputs": [],
   "source": [
    "# !pip install googletrans==4.0.0-rc1"
   ]
  },
  {
   "cell_type": "markdown",
   "id": "456b0fc6-ae95-48a4-9d18-0cb073ee5c74",
   "metadata": {},
   "source": [
    "<h2>Check supported languages</h2>"
   ]
  },
  {
   "cell_type": "code",
   "execution_count": 3,
   "id": "3e5ab5b2-d6b7-4546-a275-89b3484c8b11",
   "metadata": {},
   "outputs": [
    {
     "name": "stdout",
     "output_type": "stream",
     "text": [
      "af => afrikaans\n",
      "sq => albanian\n",
      "am => amharic\n",
      "ar => arabic\n",
      "hy => armenian\n",
      "az => azerbaijani\n",
      "eu => basque\n",
      "be => belarusian\n",
      "bn => bengali\n",
      "bs => bosnian\n",
      "bg => bulgarian\n",
      "ca => catalan\n",
      "ceb => cebuano\n",
      "ny => chichewa\n",
      "zh-cn => chinese (simplified)\n",
      "zh-tw => chinese (traditional)\n",
      "co => corsican\n",
      "hr => croatian\n",
      "cs => czech\n",
      "da => danish\n",
      "nl => dutch\n",
      "en => english\n",
      "eo => esperanto\n",
      "et => estonian\n",
      "tl => filipino\n",
      "fi => finnish\n",
      "fr => french\n",
      "fy => frisian\n",
      "gl => galician\n",
      "ka => georgian\n",
      "de => german\n",
      "el => greek\n",
      "gu => gujarati\n",
      "ht => haitian creole\n",
      "ha => hausa\n",
      "haw => hawaiian\n",
      "iw => hebrew\n",
      "he => hebrew\n",
      "hi => hindi\n",
      "hmn => hmong\n",
      "hu => hungarian\n",
      "is => icelandic\n",
      "ig => igbo\n",
      "id => indonesian\n",
      "ga => irish\n",
      "it => italian\n",
      "ja => japanese\n",
      "jw => javanese\n",
      "kn => kannada\n",
      "kk => kazakh\n",
      "km => khmer\n",
      "ko => korean\n",
      "ku => kurdish (kurmanji)\n",
      "ky => kyrgyz\n",
      "lo => lao\n",
      "la => latin\n",
      "lv => latvian\n",
      "lt => lithuanian\n",
      "lb => luxembourgish\n",
      "mk => macedonian\n",
      "mg => malagasy\n",
      "ms => malay\n",
      "ml => malayalam\n",
      "mt => maltese\n",
      "mi => maori\n",
      "mr => marathi\n",
      "mn => mongolian\n",
      "my => myanmar (burmese)\n",
      "ne => nepali\n",
      "no => norwegian\n",
      "or => odia\n",
      "ps => pashto\n",
      "fa => persian\n",
      "pl => polish\n",
      "pt => portuguese\n",
      "pa => punjabi\n",
      "ro => romanian\n",
      "ru => russian\n",
      "sm => samoan\n",
      "gd => scots gaelic\n",
      "sr => serbian\n",
      "st => sesotho\n",
      "sn => shona\n",
      "sd => sindhi\n",
      "si => sinhala\n",
      "sk => slovak\n",
      "sl => slovenian\n",
      "so => somali\n",
      "es => spanish\n",
      "su => sundanese\n",
      "sw => swahili\n",
      "sv => swedish\n",
      "tg => tajik\n",
      "ta => tamil\n",
      "te => telugu\n",
      "th => thai\n",
      "tr => turkish\n",
      "uk => ukrainian\n",
      "ur => urdu\n",
      "ug => uyghur\n",
      "uz => uzbek\n",
      "vi => vietnamese\n",
      "cy => welsh\n",
      "xh => xhosa\n",
      "yi => yiddish\n",
      "yo => yoruba\n",
      "zu => zulu\n"
     ]
    }
   ],
   "source": [
    "import googletrans\n",
    "\n",
    "l = googletrans.LANGUAGES\n",
    "for i in l:\n",
    "    print(f'{i} => {l[i]}')"
   ]
  },
  {
   "cell_type": "markdown",
   "id": "56193c1c-192c-424e-87e4-bd132d4e7a14",
   "metadata": {},
   "source": [
    "<h2>Detecting Language</h2>"
   ]
  },
  {
   "cell_type": "code",
   "execution_count": 5,
   "id": "c0fb14d0-faa4-454e-b36a-a09dc9b3106a",
   "metadata": {},
   "outputs": [
    {
     "name": "stdout",
     "output_type": "stream",
     "text": [
      "Language: en, Confidence: None\n"
     ]
    }
   ],
   "source": [
    "from googletrans import Translator\n",
    "\n",
    "translator = Translator()\n",
    "text = \"This is an apple\"\n",
    "detection = translator.detect(text)\n",
    "\n",
    "print(f\"Language: {detection.lang}, Confidence: {detection.confidence}\")"
   ]
  },
  {
   "cell_type": "markdown",
   "id": "d8a0e9fe-0be9-487a-a0e8-83f771ab0d2c",
   "metadata": {},
   "source": [
    "<h2>Example 1 (default parameters)</h2>"
   ]
  },
  {
   "cell_type": "code",
   "execution_count": 7,
   "id": "657a01ff-0b20-456a-931b-a50899de92c5",
   "metadata": {},
   "outputs": [
    {
     "name": "stdout",
     "output_type": "stream",
     "text": [
      "Source => en\n",
      "Destination => en\n",
      "This is a mango => This is a mango\n"
     ]
    }
   ],
   "source": [
    "from googletrans import Translator\n",
    "gt = Translator()\n",
    "t = gt.translate('This is a mango')\n",
    "print(f'Source => {t.src}')\n",
    "print(f'Destination => {t.dest}')\n",
    "print(f'{t.origin} => {t.text}')"
   ]
  },
  {
   "cell_type": "markdown",
   "id": "e4087d0f-03f3-4ba7-b424-b213074f63e8",
   "metadata": {},
   "source": [
    "<h2>Example 2 (specified all parameters)</h2>"
   ]
  },
  {
   "cell_type": "code",
   "execution_count": 9,
   "id": "3130a94a-ceac-49fc-a2eb-c8c403dfb18c",
   "metadata": {},
   "outputs": [
    {
     "name": "stdout",
     "output_type": "stream",
     "text": [
      "आपका क्या नाम है?\n"
     ]
    }
   ],
   "source": [
    "from googletrans import Translator\n",
    "t = Translator()\n",
    "gt = t.translate(\"What is your name?\", src='en', dest='hi')\n",
    "data = gt.text\n",
    "print(data)"
   ]
  },
  {
   "cell_type": "markdown",
   "id": "b78062b7-6dd3-4a03-8595-d7304d4d64e7",
   "metadata": {},
   "source": [
    "<h2>Example 3 (change destination language</h2>"
   ]
  },
  {
   "cell_type": "code",
   "execution_count": 11,
   "id": "03582418-8bd0-467d-99d5-e2db8629f78d",
   "metadata": {},
   "outputs": [
    {
     "name": "stdout",
     "output_type": "stream",
     "text": [
      "Source => en\n",
      "Destination => hi\n",
      "What is your name? => आपका क्या नाम है?\n"
     ]
    }
   ],
   "source": [
    "from googletrans import Translator\n",
    "t = Translator()\n",
    "gt = t.translate(\"What is your name?\",dest='hi')\n",
    "print(f'Source => {gt.src}')\n",
    "print(f'Destination => {gt.dest}')\n",
    "print(f'{gt.origin} => {gt.text}')"
   ]
  },
  {
   "cell_type": "markdown",
   "id": "f840563c-9f4e-4f99-9660-ce1778129087",
   "metadata": {},
   "source": [
    "<h2>Example 4 (change source language)</h2>"
   ]
  },
  {
   "cell_type": "code",
   "execution_count": 13,
   "id": "77c5ff6e-46a4-43af-ad98-126e00d02bfe",
   "metadata": {},
   "outputs": [
    {
     "name": "stdout",
     "output_type": "stream",
     "text": [
      "What is your name?\n"
     ]
    }
   ],
   "source": [
    "from googletrans import Translator\n",
    "t = Translator()\n",
    "gt = t.translate('आपका क्या नाम है?', src='hi')\n",
    "data = gt.text\n",
    "print(data)"
   ]
  },
  {
   "cell_type": "markdown",
   "id": "ffa20419-03ce-4bf1-adaa-570996c27ea4",
   "metadata": {},
   "source": [
    "<h2>Example 5 (auto detect source language)</h2>"
   ]
  },
  {
   "cell_type": "code",
   "execution_count": 15,
   "id": "8ac631c3-b74b-436e-9e1c-5b71184ed8f5",
   "metadata": {},
   "outputs": [
    {
     "name": "stdout",
     "output_type": "stream",
     "text": [
      "What is your name?\n"
     ]
    }
   ],
   "source": [
    "from googletrans import Translator\n",
    "t = Translator()\n",
    "gt = t.translate('आपका क्या नाम है?')\n",
    "data = gt.text\n",
    "print(data)"
   ]
  },
  {
   "cell_type": "markdown",
   "id": "360b4116-7827-4373-9907-7f5dea7e5fc3",
   "metadata": {},
   "source": [
    "<h2>Final code example with function</h2>"
   ]
  },
  {
   "cell_type": "code",
   "execution_count": 17,
   "id": "84a56713-56db-4888-b35e-67472d3d2f23",
   "metadata": {},
   "outputs": [],
   "source": [
    "from googletrans import Translator\n",
    "\n",
    "def hin2eng(query):\n",
    "    gt = Translator()\n",
    "    t = gt.translate(query)\n",
    "    return t.text\n",
    "\n",
    "def eng2hin(query):\n",
    "    gt = Translator()\n",
    "    t = gt.translate(query, dest=\"hi\")\n",
    "    return t.text"
   ]
  },
  {
   "cell_type": "code",
   "execution_count": 18,
   "id": "e1486689-fc10-49d3-936a-aed2a79c1fad",
   "metadata": {},
   "outputs": [
    {
     "name": "stdout",
     "output_type": "stream",
     "text": [
      "My name is Alexa\n",
      "नमस्ते\n"
     ]
    }
   ],
   "source": [
    "s1 = \"मेरा नाम एलेक्सा है\"\n",
    "s2 = \"hello there\"\n",
    "\n",
    "eng = hin2eng(s1)\n",
    "hin = eng2hin(s2)\n",
    "print(eng)\n",
    "print(hin)"
   ]
  }
 ],
 "metadata": {
  "kernelspec": {
   "display_name": "Python [conda env:base] *",
   "language": "python",
   "name": "conda-base-py"
  },
  "language_info": {
   "codemirror_mode": {
    "name": "ipython",
    "version": 3
   },
   "file_extension": ".py",
   "mimetype": "text/x-python",
   "name": "python",
   "nbconvert_exporter": "python",
   "pygments_lexer": "ipython3",
   "version": "3.12.7"
  }
 },
 "nbformat": 4,
 "nbformat_minor": 5
}
